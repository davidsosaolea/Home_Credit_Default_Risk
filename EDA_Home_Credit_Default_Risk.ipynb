{
 "cells": [
  {
   "cell_type": "markdown",
   "metadata": {},
   "source": [
    "# Riesgo de incumplimiento crediticio de la vivienda"
   ]
  },
  {
   "cell_type": "markdown",
   "metadata": {},
   "source": [
    "## Librerias"
   ]
  },
  {
   "cell_type": "code",
   "execution_count": 1,
   "metadata": {},
   "outputs": [],
   "source": [
    "import pandas as pd"
   ]
  },
  {
   "cell_type": "markdown",
   "metadata": {},
   "source": [
    "## Carga de datos"
   ]
  },
  {
   "cell_type": "code",
   "execution_count": 15,
   "metadata": {},
   "outputs": [],
   "source": [
    "application_test = pd.read_csv('/home/bbchanchis/metadata/home_credit/data/application_test.csv')\n",
    "application_train = pd.read_csv('/home/bbchanchis/metadata/home_credit/data/application_train.csv')\n",
    "burea_balance = pd.read_csv('data/bureau_balance.csv')\n",
    "bureau = pd.read_csv('data/bureau.csv')\n",
    "credit_card_balance = pd.read_csv('data/credit_card_balance.csv')\n",
    "HomeCredit = pd.read_csv('data/HomeCredit_columns_description.csv', encoding='ISO-8859-1')\n",
    "installments_payment = pd.read_csv('data/installments_payments.csv')\n",
    "pos_cash_balance = pd.read_csv('data/POS_CASH_balance.csv')\n",
    "previous_application = pd.read_csv('data/previous_application.csv')"
   ]
  },
  {
   "cell_type": "code",
   "execution_count": null,
   "metadata": {},
   "outputs": [],
   "source": []
  },
  {
   "cell_type": "code",
   "execution_count": 2,
   "metadata": {},
   "outputs": [
    {
     "name": "stdout",
     "output_type": "stream",
     "text": [
      "Note: you may need to restart the kernel to use updated packages.\n"
     ]
    }
   ],
   "source": [
    "pip freeze > requirements.txt"
   ]
  }
 ],
 "metadata": {
  "kernelspec": {
   "display_name": "venv",
   "language": "python",
   "name": "python3"
  },
  "language_info": {
   "codemirror_mode": {
    "name": "ipython",
    "version": 3
   },
   "file_extension": ".py",
   "mimetype": "text/x-python",
   "name": "python",
   "nbconvert_exporter": "python",
   "pygments_lexer": "ipython3",
   "version": "3.10.6"
  },
  "orig_nbformat": 4
 },
 "nbformat": 4,
 "nbformat_minor": 2
}
